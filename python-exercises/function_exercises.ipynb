{
 "cells": [
  {
   "cell_type": "markdown",
   "metadata": {},
   "source": [
    "Define a function named is_two. It should accept one input and return True if the passed input is either the number or the string 2, False otherwise."
   ]
  },
  {
   "cell_type": "code",
   "execution_count": 456,
   "metadata": {},
   "outputs": [],
   "source": [
    "def is_two(num1):\n",
    "    '''\n",
    "    parameters give a string or a number to check\n",
    "    returns: true if int(passed) is equivalent to 2\n",
    "    '''\n",
    "    try: #see if type is correct for function\n",
    "        float(num1) > 0 #if not number (which should be two really) then...\n",
    "    except: #go to the except if not a positive number\n",
    "        return False # returns false instead of error message\n",
    "    if int(num1) == 2: #if python can interpret the number as equivalent to 2 then...\n",
    "        return True # returns true if passes true for the if\n",
    "    return False # returns false if did not pass true"
   ]
  },
  {
   "cell_type": "code",
   "execution_count": 457,
   "metadata": {},
   "outputs": [
    {
     "name": "stdout",
     "output_type": "stream",
     "text": [
      "False\n",
      "True thisone\n",
      "True thisone\n",
      "False\n",
      "False\n",
      "False\n"
     ]
    }
   ],
   "source": [
    "print(is_two(\"e\"))\n",
    "print(f'{is_two(\"2\")} thisone')\n",
    "print(f'{is_two(2)} thisone')\n",
    "print(is_two(3))\n",
    "print(is_two(\"\"))\n",
    "print(is_two(\"*\"))"
   ]
  },
  {
   "cell_type": "markdown",
   "metadata": {},
   "source": [
    "Define a function named is_vowel. It should return True if the passed string is a vowel, False otherwise"
   ]
  },
  {
   "cell_type": "code",
   "execution_count": 515,
   "metadata": {},
   "outputs": [],
   "source": [
    "def is_vowel(letter1):\n",
    "    '''\n",
    "    parameters give a letter to check\n",
    "    returns: true if the passed letter in string \"aeiouAEIOU\"\n",
    "    '''\n",
    "    if type(letter1) ==str: #check to verify string\n",
    "        if len(letter1) == 1: #check to verify length of 1 (no words)\n",
    "             if letter1 in \"aeiouAEIOU\": #check if vowel\n",
    "                return True #return true if all above is true\n",
    "    return False #otherwise return false if any checks failed"
   ]
  },
  {
   "cell_type": "code",
   "execution_count": 516,
   "metadata": {},
   "outputs": [
    {
     "name": "stdout",
     "output_type": "stream",
     "text": [
      "False\n",
      "False\n",
      "False\n",
      "False\n",
      "True  thisone\n",
      "False\n"
     ]
    }
   ],
   "source": [
    "print(is_vowel(\"balh\"))\n",
    "print(is_vowel(\"b\"))\n",
    "print(is_vowel(4))\n",
    "print(is_vowel(\"eel\"))\n",
    "print(f'{is_vowel(\"e\")}  thisone')\n",
    "print(is_vowel(\"\"))"
   ]
  },
  {
   "cell_type": "markdown",
   "metadata": {},
   "source": [
    "Define a function named is_consonant. It should return True if the passed string is a consonant, False otherwise. Use your is_vowel function to accomplish this."
   ]
  },
  {
   "cell_type": "code",
   "execution_count": 517,
   "metadata": {},
   "outputs": [],
   "source": [
    "def is_consonant(letter1):\n",
    "    '''\n",
    "    paramters give a letter to check\n",
    "    returns: true if the passed letter not in string \"aeiouAEIOU\"\n",
    "    '''\n",
    "    if type(letter1) ==str: #check if string\n",
    "        if len(letter1) == 1: #check if length is one\n",
    "             if letter1 not in \"aeiouAEIOU\": #check if not a vowel\n",
    "                return True #must be consonant then, return true\n",
    "    return False # otherwise return false if failed check"
   ]
  },
  {
   "cell_type": "code",
   "execution_count": 518,
   "metadata": {},
   "outputs": [
    {
     "name": "stdout",
     "output_type": "stream",
     "text": [
      "False\n",
      "False\n",
      "True this one\n",
      "False\n",
      "False\n"
     ]
    }
   ],
   "source": [
    "print(is_consonant(\"balh\"))\n",
    "print(is_consonant(2))\n",
    "print(f'{is_consonant(\"b\")} this one')\n",
    "print(is_consonant(\"a\"))\n",
    "print(is_consonant(\"\"))"
   ]
  },
  {
   "cell_type": "markdown",
   "metadata": {},
   "source": [
    "Define a function that accepts a string that is a word. The function should capitalize the first letter of the word if the word starts with a consonant."
   ]
  },
  {
   "cell_type": "code",
   "execution_count": 462,
   "metadata": {},
   "outputs": [],
   "source": [
    "def title_if_is_consonant(string1):\n",
    "    '''\n",
    "    paramter: word as string\n",
    "    returns: cap first letter in word if consonant\"\n",
    "    '''\n",
    "    if isinstance(string1,str): #check if string\n",
    "        if len(string1) > 1: #check if string is more than one character (as consonant words are)\n",
    "            if not string1[0] in \"aeiouAEIOU\": #verify first letter not vowel\n",
    "                string1 = string1.title() #if all is good make the string a title - first letter is capped\n",
    "                return string1 #return that string with capped letter\n",
    "    return \"string does not start with consonant, or is not word\" #return error"
   ]
  },
  {
   "cell_type": "code",
   "execution_count": 463,
   "metadata": {},
   "outputs": [
    {
     "name": "stdout",
     "output_type": "stream",
     "text": [
      "Balh this one\n",
      "string does not start with consonant, or is not word\n",
      "string does not start with consonant, or is not word\n",
      "string does not start with consonant, or is not word\n",
      "string does not start with consonant, or is not word\n"
     ]
    }
   ],
   "source": [
    "print(f'{title_if_is_consonant(\"balh\")} this one')\n",
    "print(title_if_is_consonant(2))\n",
    "print(title_if_is_consonant(\"b\"))\n",
    "print(title_if_is_consonant(\"an\"))\n",
    "print(title_if_is_consonant(\"\"))"
   ]
  },
  {
   "cell_type": "markdown",
   "metadata": {},
   "source": [
    "Define a function named calculate_tip. It should accept a tip percentage (a number between 0 and 1) and the bill total, and return the amount to tip"
   ]
  },
  {
   "cell_type": "code",
   "execution_count": 522,
   "metadata": {},
   "outputs": [],
   "source": [
    "def calculate_tip(tip_percent,bill_ttl):\n",
    "    '''\n",
    "    parameters give decimal for tip and value for bill\n",
    "    returns tip percent * bill ttl + bill ttl\n",
    "    '''\n",
    "    try:\n",
    "        tip_percent > -1 #check if error with math for tip\n",
    "        bill_ttl    > -1 #check if error with math for bill\n",
    "    except: #give return if issue\n",
    "        return \"input incorrect, use decimal for percent, can't be zeros or string\" #return message giving what may be wrong\n",
    "    if tip_percent > 0: #tip should be larger than zero if you're calculating tip\n",
    "            if tip_percent < 1: #tip should be decimal\n",
    "                if bill_ttl > 0: #bill should have value\n",
    "                    return (round(tip_percent * bill_ttl,2)) #return the correct amount if no fail\n",
    "    return \"input incorrect, use decimal for percent, can't be zeros or string\" #return message giving what may be wrong\n",
    "   "
   ]
  },
  {
   "cell_type": "code",
   "execution_count": 524,
   "metadata": {},
   "outputs": [
    {
     "name": "stdout",
     "output_type": "stream",
     "text": [
      "4.06\n",
      "input incorrect, use decimal for percent, can't be zeros or string\n",
      "input incorrect, use decimal for percent, can't be zeros or string\n",
      "input incorrect, use decimal for percent, can't be zeros or string\n",
      "input incorrect, use decimal for percent, can't be zeros or string\n",
      "input incorrect, use decimal for percent, can't be zeros or string\n",
      "input incorrect, use decimal for percent, can't be zeros or string\n"
     ]
    }
   ],
   "source": [
    "print(calculate_tip(0.2,20.3))\n",
    "print(calculate_tip(\"e\",20))\n",
    "print(calculate_tip(0.2,\"20\"))\n",
    "print(calculate_tip(\"\",\"\"))\n",
    "print(calculate_tip(\"20%\",10))\n",
    "print(calculate_tip(0,10))\n",
    "print(calculate_tip(-.5,10))\n"
   ]
  },
  {
   "cell_type": "markdown",
   "metadata": {},
   "source": [
    "Define a function named apply_discount. It should accept a original price, and a discount percentage, and return the price after the discount is applied"
   ]
  },
  {
   "cell_type": "code",
   "execution_count": 466,
   "metadata": {},
   "outputs": [],
   "source": [
    "def apply_discount(disc_percent,orig_price):\n",
    "    '''\n",
    "    parameters: give decimal for discount percent, and original price\n",
    "    returns price after discount\n",
    "    '''\n",
    "    try: #verify math can be done\n",
    "        (disc_percent) >0 #can math be done on disc\n",
    "        (orig_price) > 0 #can math ben done on orig\n",
    "    except: #if math can't be done\n",
    "        return False #return false, these inputs don't work\n",
    "    if disc_percent>0: #should be positive\n",
    "            if orig_price > 0: #should be positive\n",
    "                if disc_percent < 1: #should be decimal\n",
    "                    return (orig_price-(disc_percent*orig_price)) #returns price afterd discount\n",
    "    return False\n"
   ]
  },
  {
   "cell_type": "markdown",
   "metadata": {},
   "source": [
    "Define a function named handle_commas. It should accept a string that is a number that contains commas in it as input, and return a number as output."
   ]
  },
  {
   "cell_type": "code",
   "execution_count": 467,
   "metadata": {},
   "outputs": [],
   "source": [
    "def handle_commas(string1):\n",
    "    '''\n",
    "    parameters: string of numbers with commas\n",
    "    returns: removes commas, returns number\n",
    "    '''\n",
    "    try: #check things\n",
    "        isinstance(string1,str) #check string is string\n",
    "        float(string1.replace(\",\",\"\"))>=0 #check if you can do math on input after removing commas\n",
    "    except: #what to do if fail\n",
    "        return False #return false if fail try check\n",
    "    if isinstance(string1,str): #verify string is string\n",
    "        if len(string1) > 1: #verify length is not one\n",
    "            return (float(string1.replace(\",\",\"\"))) #replace commas and return as float\n",
    "    return False"
   ]
  },
  {
   "cell_type": "code",
   "execution_count": 468,
   "metadata": {},
   "outputs": [
    {
     "name": "stdout",
     "output_type": "stream",
     "text": [
      "1234.5\n",
      "1234.0\n",
      "234.0\n",
      "False\n"
     ]
    }
   ],
   "source": [
    "print(handle_commas(\"1,234.50\"))\n",
    "print(handle_commas(\"1,234\"))\n",
    "print(handle_commas(\"234\"))\n",
    "print(handle_commas(\"blah, ah\"))"
   ]
  },
  {
   "cell_type": "markdown",
   "metadata": {},
   "source": [
    "Define a function named get_letter_grade. It should accept a number and return the letter grade associated with that number (A-F)"
   ]
  },
  {
   "cell_type": "code",
   "execution_count": 469,
   "metadata": {},
   "outputs": [],
   "source": [
    "def get_letter_grade(num1):\n",
    "    '''\n",
    "    parameter: number 0-100\n",
    "    returns: associated letter grade (arbitrarily chosen)\n",
    "    '''\n",
    "    try:\n",
    "        num1 > -1 # check if number with math\n",
    "    except: #return if issue\n",
    "        return False #return false if not number\n",
    "    let_grade = \"\" #setting string\n",
    "    if num1 > 100: #if number over limit\n",
    "        let_grade = \"not valid number input\" #return with issue\n",
    "    elif num1 >= 90: #if number over 90\n",
    "        let_grade = \"A\" #give it an A\n",
    "    elif num1 >= 80: # and so on\n",
    "        let_grade = \"B\" # and so forth\n",
    "    elif num1 >= 70:\n",
    "        let_grade = \"C\"\n",
    "    elif num1 >= 60:\n",
    "        let_grade = \"D\"\n",
    "    elif num1 >=0:\n",
    "        let_grade = \"F\"\n",
    "    else: #what if number is less than zero\n",
    "        let_grade = \"not valid number input\" #we'll say it's not valid\n",
    "    return let_grade #return the result from input based on ranges\n"
   ]
  },
  {
   "cell_type": "code",
   "execution_count": 470,
   "metadata": {},
   "outputs": [
    {
     "name": "stdout",
     "output_type": "stream",
     "text": [
      "B\n",
      "F\n",
      "False\n",
      "False\n"
     ]
    }
   ],
   "source": [
    "print(get_letter_grade(80))\n",
    "print(get_letter_grade(0))\n",
    "print(get_letter_grade(\"A\"))\n",
    "print(get_letter_grade(\"80\"))"
   ]
  },
  {
   "cell_type": "markdown",
   "metadata": {},
   "source": [
    "Define a function named remove_vowels that accepts a string and returns a string with all the vowels removed."
   ]
  },
  {
   "cell_type": "code",
   "execution_count": 471,
   "metadata": {},
   "outputs": [],
   "source": [
    "def remove_vowels(string1):\n",
    "    '''\n",
    "    returns: string removing any in \"aeiouAEIOU\"\n",
    "    '''\n",
    "    if isinstance(string1,str):\n",
    "        if len(string1) > 1:\n",
    "            for letter in string1:\n",
    "                if letter in \"aeiouAEIOU\":\n",
    "                    string1 = string1.replace(letter,\"\")\n",
    "            return string1\n",
    "    return False"
   ]
  },
  {
   "cell_type": "code",
   "execution_count": 472,
   "metadata": {},
   "outputs": [
    {
     "name": "stdout",
     "output_type": "stream",
     "text": [
      "hdch\n",
      "trysk\n",
      "80\n",
      "False\n",
      "-><- should be blank\n"
     ]
    }
   ],
   "source": [
    "print(remove_vowels(\"headache\"))\n",
    "print(remove_vowels(\"trysk\"))\n",
    "print(remove_vowels(\"80\"))\n",
    "print(remove_vowels(23))\n",
    "print(f'->{remove_vowels(\"aaaaaeee\")}<- should be blank')\n"
   ]
  },
  {
   "cell_type": "markdown",
   "metadata": {},
   "source": [
    "Define a function named normalize_name. It should accept a string and return a valid python identifier, that is:\n",
    "anything that is not a valid python identifier should be removed\n",
    "leading and trailing whitespace should be removed\n",
    "everything should be lowercase\n",
    "spaces should be replaced with underscores\n",
    "for example:\n",
    "Name will become name\n",
    "First Name will become first_name\n",
    "% Completed will become completed"
   ]
  },
  {
   "cell_type": "code",
   "execution_count": 473,
   "metadata": {},
   "outputs": [],
   "source": [
    "def normalize_name(string1):\n",
    "    '''\n",
    "    parameters: string without special characters, or started with numbers\n",
    "    \n",
    "        returns: removed: \n",
    "        whitespace,\n",
    "        special characters,\n",
    "            makes lowercase,\n",
    "                turns space into underscores\n",
    "    '''\n",
    "\n",
    "    #print(string2)\n",
    "    if isinstance(string1,str):\n",
    "        for letter in string1:\n",
    "            if not letter.isalnum() or letter not in \"_ \":\n",
    "                string1.replace(letter,\"\")\n",
    "        string1 = string1.strip()\n",
    "        string1 = string1.lower()\n",
    "        string1 = string1.replace(\" \",\"_\")\n",
    "        \n",
    "        if string1.isidentifier() == True:\n",
    "            return string1\n",
    "    return (f'{False} - not a valid identifier')"
   ]
  },
  {
   "cell_type": "code",
   "execution_count": 474,
   "metadata": {},
   "outputs": [
    {
     "name": "stdout",
     "output_type": "stream",
     "text": [
      ">first_last< was \" first last \"\n",
      ">lower< was \" lOWer\"\n",
      ">my_folder< was \" My Folder \n",
      ">False - not a valid identifier< was \" 2 bring\"\n",
      ">False - not a valid identifier< was \" % completed \"\n"
     ]
    }
   ],
   "source": [
    "print(f'>{normalize_name(\" first last\")}< was \" first last \"')\n",
    "print(f'>{normalize_name(\" lOWer\")}< was \" lOWer\"')\n",
    "print(f'>{normalize_name(\" My Folder \")}< was \" My Folder ')\n",
    "print(f'>{normalize_name(\" 2 bring\")}< was \" 2 bring\"')\n",
    "print(f'>{normalize_name(\" % completed \")}< was \" % completed \"')"
   ]
  },
  {
   "cell_type": "markdown",
   "metadata": {},
   "source": [
    "Write a function named cumulative_sum that accepts a list of numbers and returns a list that is the cumulative sum of the numbers in the list.\n",
    "cumulative_sum([1, 1, 1]) returns [1, 2, 3]\n",
    "cumulative_sum([1, 2, 3, 4]) returns [1, 3, 6, 10]"
   ]
  },
  {
   "cell_type": "code",
   "execution_count": 475,
   "metadata": {},
   "outputs": [],
   "source": [
    "def cumulative_sum(list1):\n",
    "    ''' \n",
    "    parameters: input a list of numbers\n",
    "    returns: sum of each iteration of the list with the the previous iterations\n",
    "    '''\n",
    "    list2 =[]\n",
    "    i = -1\n",
    "    flag = True\n",
    "    if isinstance(list1,list):\n",
    "        for element1 in list1:\n",
    "            if not str(element1).isdigit() == True:\n",
    "                return False\n",
    "            if not i == -1:\n",
    "                #print(i)\n",
    "                list2.append(list2[i] + element1)\n",
    "            else:\n",
    "                list2.append(element1)\n",
    "            i += 1\n",
    "        return list2\n",
    "    return False"
   ]
  },
  {
   "cell_type": "code",
   "execution_count": 476,
   "metadata": {},
   "outputs": [
    {
     "name": "stdout",
     "output_type": "stream",
     "text": [
      ">[1, 2, 3]< was \"[1,1,1]\"\n",
      ">[1, 3, 6]< was \"[1,2,3]\"\n",
      ">[1, 3, 6, 10]< was \"[1,2,3,4]\"\n",
      ">False< was \"[1,\"a\",3]\"\n"
     ]
    }
   ],
   "source": [
    "print(f'>{cumulative_sum([1,1,1])}< was \"[1,1,1]\"')\n",
    "print(f'>{cumulative_sum([1,2,3])}< was \"[1,2,3]\"')\n",
    "print(f'>{cumulative_sum([1,2,3,4])}< was \"[1,2,3,4]\"')\n",
    "print(f'>{cumulative_sum([1,\"a\",3])}< was \"[1,\"a\",3]\"')"
   ]
  }
 ],
 "metadata": {
  "kernelspec": {
   "display_name": "Python 3.9.12 ('base')",
   "language": "python",
   "name": "python3"
  },
  "language_info": {
   "codemirror_mode": {
    "name": "ipython",
    "version": 3
   },
   "file_extension": ".py",
   "mimetype": "text/x-python",
   "name": "python",
   "nbconvert_exporter": "python",
   "pygments_lexer": "ipython3",
   "version": "3.9.12"
  },
  "orig_nbformat": 4,
  "vscode": {
   "interpreter": {
    "hash": "3067ead486e059ec00ffe7555bdb889e6e264a24dc711bf108106cc7baee8d5d"
   }
  }
 },
 "nbformat": 4,
 "nbformat_minor": 2
}
