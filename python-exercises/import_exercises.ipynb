{
 "cells": [
  {
   "cell_type": "markdown",
   "metadata": {},
   "source": [
    "import os\n",
    "os.getcdw()\n",
    "os.listdir()\n",
    "\n",
    "import sample_module "
   ]
  },
  {
   "cell_type": "code",
   "execution_count": 177,
   "metadata": {},
   "outputs": [],
   "source": [
    "import os\n",
    "os.getcwd()\n",
    "os.chdir('/Users/geary.shenck/codeup-data-science/python-exercises/')"
   ]
  },
  {
   "cell_type": "markdown",
   "metadata": {},
   "source": [
    "Run an interactive python session and import the module. Call the is_vowel function using the . syntax"
   ]
  },
  {
   "cell_type": "code",
   "execution_count": 3,
   "metadata": {},
   "outputs": [
    {
     "name": "stdout",
     "output_type": "stream",
     "text": [
      "False\n",
      "True\n"
     ]
    }
   ],
   "source": [
    "import function_exercises as fe\n",
    "print(fe.is_vowel(\"T\"))\n",
    "print(fe.is_vowel(\"a\"))"
   ]
  },
  {
   "cell_type": "markdown",
   "metadata": {},
   "source": [
    "Create a file named import_exericses.py. \n",
    "Within this file, use from to import the calculate_tip function directly. \n",
    "Call this function with values you choose and print the result.\n",
    "import os\n",
    "from function_exercises import calculate_tip \n",
    "print(calculate_tip(.2,80))"
   ]
  },
  {
   "cell_type": "markdown",
   "metadata": {},
   "source": [
    "Create a jupyter notebook named import_exercises.ipynb. Use from to import the get_letter_grade function and give it an alias. Test this function in your notebook."
   ]
  },
  {
   "cell_type": "code",
   "execution_count": 4,
   "metadata": {},
   "outputs": [
    {
     "name": "stdout",
     "output_type": "stream",
     "text": [
      "B\n",
      "not valid number input\n"
     ]
    }
   ],
   "source": [
    "from function_exercises import get_letter_grade as graded\n",
    "print(graded(84))\n",
    "print(graded(104))"
   ]
  },
  {
   "cell_type": "markdown",
   "metadata": {},
   "source": [
    "Read about and use the itertools module from the python standard library to help you solve the following problems:\n",
    "\n",
    "How many different ways can you combine the letters from \"abc\" with the numbers 1, 2, and 3?"
   ]
  },
  {
   "cell_type": "code",
   "execution_count": 5,
   "metadata": {},
   "outputs": [
    {
     "name": "stdout",
     "output_type": "stream",
     "text": [
      "['A', 'B', 'C', '1', '2', '3']\n",
      "['A', 'B', 'C', '1', '2', '3']\n"
     ]
    }
   ],
   "source": [
    "import itertools\n",
    "print(list(itertools.chain(\"ABC\",\"123\")))\n",
    "print(list(itertools.chain.from_iterable(\"ABC123\")))"
   ]
  },
  {
   "cell_type": "markdown",
   "metadata": {},
   "source": [
    "How many different combinations are there of 2 letters from \"abcd\"?"
   ]
  },
  {
   "cell_type": "code",
   "execution_count": 11,
   "metadata": {},
   "outputs": [
    {
     "name": "stdout",
     "output_type": "stream",
     "text": [
      "[('A', 'A'), ('A', 'B'), ('A', 'C'), ('A', 'D'), ('B', 'A'), ('B', 'B'), ('B', 'C'), ('B', 'D'), ('C', 'A'), ('C', 'B'), ('C', 'C'), ('C', 'D'), ('D', 'A'), ('D', 'B'), ('D', 'C'), ('D', 'D')]\n"
     ]
    }
   ],
   "source": [
    "print(list(itertools.product(\"ABCD\",repeat=2)))"
   ]
  },
  {
   "cell_type": "markdown",
   "metadata": {},
   "source": [
    "How many different permutations are there of 2 letters from \"abcd\"?"
   ]
  },
  {
   "cell_type": "code",
   "execution_count": 13,
   "metadata": {},
   "outputs": [
    {
     "name": "stdout",
     "output_type": "stream",
     "text": [
      "[('A', 'B'), ('A', 'C'), ('A', 'D'), ('B', 'A'), ('B', 'C'), ('B', 'D'), ('C', 'A'), ('C', 'B'), ('C', 'D'), ('D', 'A'), ('D', 'B'), ('D', 'C')]\n"
     ]
    }
   ],
   "source": [
    "print(list(itertools.permutations(\"ABCD\",2)))"
   ]
  },
  {
   "cell_type": "code",
   "execution_count": 263,
   "metadata": {},
   "outputs": [
    {
     "name": "stdout",
     "output_type": "stream",
     "text": [
      "19 amount of users\n",
      "9 users active\n",
      "10 users inactive\n",
      "$52667.02 ttl balance of all users\n",
      "$2771.95 average per user\n",
      "Avery Flynn @ $1214.1 as min user/bal\n",
      "Fay Hammond @ $3919.64 as max user/bal\n",
      "['strawberry', 9] is the most common fruit and count\n",
      "['apple', 4] is the least common fruit and count\n",
      "210 amount of unread emails\n"
     ]
    }
   ],
   "source": [
    "import json\n",
    "with open('profiles.json') as json_file:\n",
    "    data = json.load((json_file))\n",
    "    #print(\"type: \", type(data))\n",
    "    #for ele1 in data:\n",
    "        #print(ele1['balance'])\n",
    "        #_id, index, guild, isActive, \n",
    "        # balance, picture, age, eyeColor, \n",
    "        # name, gender, company, email,\n",
    "        # phone,address, about,registered, \n",
    "        # latitude, longitude, tags,friends,greeting,favoriteFruit\n",
    "    isactive = 0\n",
    "    is_not_active = 0\n",
    "    ttl_balance_all = 0\n",
    "    min_bal = 0\n",
    "    max_bal = 0\n",
    "    fruits_list = []\n",
    "    fruits_count = 0\n",
    "    final_fruit_list = []\n",
    "    list_of_greetings =[]\n",
    "    unread_emails = []\n",
    "\n",
    "    print(f'{len(data)} amount of users')\n",
    "\n",
    "    isactive = sum((ele1['isActive'] == True) for ele1 in data)\n",
    "    print(f'{isactive} users active')\n",
    "\n",
    "    is_not_active = sum((ele2['isActive'] == False) for ele2 in data)\n",
    "    print(f'{is_not_active} users inactive')\n",
    "\n",
    "    ttl_balance_all = sum(float(ele3['balance'][1:].replace(\",\",\"\")) for ele3 in data)\n",
    "    print(f'${ttl_balance_all} ttl balance of all users')\n",
    "\n",
    "    print(f'${round(ttl_balance_all/len(data),2)} average per user')\n",
    "\n",
    "    min_bal = min(float(ele4['balance'][1:].replace(\",\",\"\")) for ele4 in data)\n",
    "    user_name_min = \" \".join([ele5['name'] for ele5 in data if float(ele5['balance'][1:].replace(\",\",\"\")) == min_bal])\n",
    "    print(f'{user_name_min} @ ${min_bal} as min user/bal')\n",
    "\n",
    "    max_bal = max(float(ele6['balance'][1:].replace(\",\",\"\")) for ele6 in data)\n",
    "    user_name_max = \" \".join([ele7['name'] for ele7 in data if float(ele7['balance'][1:].replace(\",\",\"\")) == max_bal])\n",
    "    print(f'{user_name_max} @ ${max_bal} as max user/bal')\n",
    "\n",
    "    #fruits_list = ([ele8['favoriteFruit'] for ele8 in data])\n",
    "    #fruit_list_set = set(fruits_list)\n",
    "    #for ele9 in fruit_list_set:\n",
    "     #   fruits_count = 0\n",
    "     #   for ele10 in fruits_list:\n",
    "     #       if ele9 == ele10:\n",
    "     #           fruits_count += 1\n",
    "     #   final_fruit_list.append([ele9,fruits_count])\n",
    "\n",
    "    for ele9 in (set(([ele8['favoriteFruit'] for ele8 in data]))):\n",
    "        fruits_count = 0\n",
    "        for ele10 in ([ele8['favoriteFruit'] for ele8 in data]):\n",
    "            if ele9 == ele10:\n",
    "                fruits_count += 1\n",
    "                #(final_fruit_list, key = lambda x:x[1]) += 1\n",
    "        final_fruit_list.append([ele9,fruits_count])\n",
    "\n",
    "    print(f'{max(final_fruit_list, key=lambda x:x[1])} is the most common fruit and count') #use lambda for looping through dimension of list\n",
    "    print(f'{min(final_fruit_list, key=lambda x:x[1])} is the least common fruit and count')\n",
    "\n",
    "    print(f\"{(sum(int(ele21['greeting'][-19:-17]) for ele21 in data))} amount of unread emails\")\n",
    "\n",
    "\n"
   ]
  },
  {
   "cell_type": "code",
   "execution_count": null,
   "metadata": {},
   "outputs": [],
   "source": []
  }
 ],
 "metadata": {
  "kernelspec": {
   "display_name": "Python 3.9.12 ('base')",
   "language": "python",
   "name": "python3"
  },
  "language_info": {
   "codemirror_mode": {
    "name": "ipython",
    "version": 3
   },
   "file_extension": ".py",
   "mimetype": "text/x-python",
   "name": "python",
   "nbconvert_exporter": "python",
   "pygments_lexer": "ipython3",
   "version": "3.9.12"
  },
  "orig_nbformat": 4,
  "vscode": {
   "interpreter": {
    "hash": "3067ead486e059ec00ffe7555bdb889e6e264a24dc711bf108106cc7baee8d5d"
   }
  }
 },
 "nbformat": 4,
 "nbformat_minor": 2
}
